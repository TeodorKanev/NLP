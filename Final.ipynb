{
 "cells": [
  {
   "cell_type": "code",
   "execution_count": 1,
   "metadata": {},
   "outputs": [],
   "source": [
    "import spacy\n",
    "from nltk.corpus import wordnet as wn\n",
    "import random"
   ]
  },
  {
   "cell_type": "code",
   "execution_count": 3,
   "metadata": {},
   "outputs": [],
   "source": [
    "nlp = spacy.load('en_core_web_lg')"
   ]
  },
  {
   "cell_type": "code",
   "execution_count": 4,
   "metadata": {},
   "outputs": [],
   "source": [
    "def synonyms_list(sentence):\n",
    "    doc = nlp(sentence)\n",
    "    result = []\n",
    "    for index, token in enumerate(doc):\n",
    "        currentSynonyms = set([])\n",
    "\n",
    "        if token.pos_ == 'NOUN':\n",
    "            pos = wn.NOUN\n",
    "        elif token.pos_ == 'VERB':\n",
    "            pos = wn.VERB\n",
    "        elif token.pos_ == 'ADV':\n",
    "            pos = wn.ADV\n",
    "        elif token.pos_ == 'ADJ':\n",
    "            pos = wn.ADJ\n",
    "        else:\n",
    "            result.append(currentSynonyms)\n",
    "            continue\n",
    "        for synset in wn.synsets(token.text, pos):\n",
    "            for lemma in synset.lemmas():\n",
    "                currentSynonyms.add(lemma.name())\n",
    "        result.append(currentSynonyms)\n",
    "    return result"
   ]
  },
  {
   "cell_type": "code",
   "execution_count": 5,
   "metadata": {},
   "outputs": [],
   "source": [
    "def sentence_similarity(sentence1, sentence2):\n",
    "    search_doc = nlp(sentence1)\n",
    "    main_doc = nlp(sentence2)\n",
    "    search_doc_no_stop_words = nlp(' '.join([str(t.lemma_) for t in search_doc if not t.is_stop]))\n",
    "    main_doc_no_stop_words = nlp(' '.join([str(t.lemma_) for t in main_doc if not t.is_stop]))\n",
    "    return (search_doc_no_stop_words.similarity(main_doc_no_stop_words))"
   ]
  },
  {
   "cell_type": "code",
   "execution_count": 6,
   "metadata": {},
   "outputs": [],
   "source": [
    "def paraphraseSentence(sentence, temperature):\n",
    "    synonyms = synonyms_list(sentence)\n",
    "    probability = temperature / 5\n",
    "    threshold_number = int(probability * 100)\n",
    "    threshold_accuracy = 1 - (temperature / 10)\n",
    "    doc = nlp(sentence)\n",
    "    epochs = 100\n",
    "    while (epochs >= 0):\n",
    "        tokens = [token.text for token in doc]\n",
    "        for index, token in enumerate(tokens):\n",
    "            if (synonyms[index] and random.randint(1, 100) <= threshold_number):\n",
    "                tokens[index] = random.sample(synonyms[index], 1)[0]\n",
    "        new_sentence = ' '.join(tokens).replace('_',' ')\n",
    "        if (sentence_similarity(new_sentence,sentence) >= threshold_accuracy):\n",
    "            return new_sentence\n",
    "    return sentence"
   ]
  },
  {
   "cell_type": "code",
   "execution_count": 9,
   "metadata": {},
   "outputs": [],
   "source": [
    "def model1(sentence, temperature):\n",
    "    return paraphraseSentence(sentence, temperature)"
   ]
  },
  {
   "cell_type": "code",
   "execution_count": 11,
   "metadata": {},
   "outputs": [
    {
     "name": "stderr",
     "output_type": "stream",
     "text": [
      "Using Bulgaria server backend.\n"
     ]
    }
   ],
   "source": [
    "from translate import Translator\n",
    "import translators as ts"
   ]
  },
  {
   "cell_type": "code",
   "execution_count": 16,
   "metadata": {},
   "outputs": [],
   "source": [
    "def model2(sentence, provider, from_language, to_language):\n",
    "    if provider == 'iciba':\n",
    "        translate_to = ts.iciba(sentence, from_language = from_language, to_language = to_language)\n",
    "        translate_back = ts.iciba(translate_to, from_language = to_language, to_language = from_language)\n",
    "        return translate_back\n",
    "    elif provider == 'yandex':\n",
    "        translate_to = ts.yandex(sentence, from_language = from_language, to_language = to_language)\n",
    "        translate_back = ts.yandex(translate_to, from_language = to_language, to_language = from_language)\n",
    "        return translate_back\n",
    "    elif provider == 'argos':\n",
    "        translate_to = ts.argos(sentence, from_language = from_language, to_language = to_language)\n",
    "        translate_back = ts.argos(translate_to, from_language = to_language, to_language = from_language)\n",
    "        return translate_back"
   ]
  },
  {
   "cell_type": "code",
   "execution_count": 20,
   "metadata": {},
   "outputs": [],
   "source": [
    "from nltk import Tree"
   ]
  },
  {
   "cell_type": "code",
   "execution_count": 34,
   "metadata": {},
   "outputs": [],
   "source": [
    "def to_nltk_tree(node):\n",
    "    if node.n_lefts + node.n_rights > 0:\n",
    "        return Tree(node.text, [to_nltk_tree(child) for child in node.children])\n",
    "    else:\n",
    "        return node.text"
   ]
  },
  {
   "cell_type": "code",
   "execution_count": 26,
   "metadata": {},
   "outputs": [],
   "source": [
    "def draw_tree(sentence):\n",
    "    doc = nlp(sentence)\n",
    "    [to_nltk_tree(sent.root).pretty_print() for sent in doc.sents]\n",
    "    return"
   ]
  },
  {
   "cell_type": "code",
   "execution_count": 39,
   "metadata": {},
   "outputs": [],
   "source": [
    "def tree_to_list(root, result):\n",
    "    if not root:\n",
    "        return\n",
    "    result.append(root.text)\n",
    "    for child in root.children:\n",
    "        tree_to_list(child, result)"
   ]
  },
  {
   "cell_type": "code",
   "execution_count": 40,
   "metadata": {},
   "outputs": [],
   "source": [
    "def order_phrase_from_sentence(text_sentence, phrase_list):\n",
    "    result = []\n",
    "    for word in text_sentence:\n",
    "        if (word in phrase_list):\n",
    "            result.append(word)\n",
    "    return result"
   ]
  },
  {
   "cell_type": "code",
   "execution_count": 42,
   "metadata": {},
   "outputs": [],
   "source": [
    "def model3(sentence):\n",
    "    doc = nlp(sentence)\n",
    "    parsed_sentence = list(doc.sents)[0]\n",
    "    text_sentence = [token.text for token in parsed_sentence]\n",
    "    phrases_list = [[parsed_sentence.root.text]]\n",
    "    for child in parsed_sentence.root.children:\n",
    "        temp_list = []\n",
    "        tree_to_list(child, temp_list)\n",
    "        phrases_list.append(temp_list)\n",
    "    ordered_phrases = [order_phrase_from_sentence(text_sentence, phrase) for phrase in phrases_list]\n",
    "    reordered_phrases = random.sample(ordered_phrases, len(ordered_phrases))\n",
    "    final_sentence = []\n",
    "    for phrase in reordered_phrases:\n",
    "        final_sentence += phrase\n",
    "    final_sentence_to_lower = [word.lower() for word in final_sentence]\n",
    "    final_sentence_to_lower[0] = final_sentence_to_lower[0].capitalize()\n",
    "    draw_tree(sentence)\n",
    "    return (' ').join(final_sentence_to_lower)"
   ]
  },
  {
   "cell_type": "code",
   "execution_count": 10,
   "metadata": {},
   "outputs": [
    {
     "data": {
      "text/plain": [
       "'My dog wish playacting in the water .'"
      ]
     },
     "execution_count": 10,
     "metadata": {},
     "output_type": "execute_result"
    }
   ],
   "source": [
    "model1('My dog likes playing in the water.', 2)"
   ]
  },
  {
   "cell_type": "code",
   "execution_count": 47,
   "metadata": {},
   "outputs": [
    {
     "data": {
      "text/plain": [
       "'My hot dog like playing in the water supply .'"
      ]
     },
     "execution_count": 47,
     "metadata": {},
     "output_type": "execute_result"
    }
   ],
   "source": [
    "model1('My dog likes playing in the water.', 4)"
   ]
  },
  {
   "cell_type": "code",
   "execution_count": 48,
   "metadata": {},
   "outputs": [
    {
     "data": {
      "text/plain": [
       "'My dog care playing in the water system'"
      ]
     },
     "execution_count": 48,
     "metadata": {},
     "output_type": "execute_result"
    }
   ],
   "source": [
    "model1('My dog likes playing in the water', 4)"
   ]
  },
  {
   "cell_type": "code",
   "execution_count": 52,
   "metadata": {},
   "outputs": [
    {
     "data": {
      "text/plain": [
       "'My hound wish playacting in the pee'"
      ]
     },
     "execution_count": 52,
     "metadata": {},
     "output_type": "execute_result"
    }
   ],
   "source": [
    "model1('My dog likes playing in the water', 5)"
   ]
  },
  {
   "cell_type": "code",
   "execution_count": 56,
   "metadata": {},
   "outputs": [
    {
     "data": {
      "text/plain": [
       "'The time to come go to those who think in the smasher of their dream'"
      ]
     },
     "execution_count": 56,
     "metadata": {},
     "output_type": "execute_result"
    }
   ],
   "source": [
    "model1('The future belongs to those who believe in the beauty of their dreams',5)"
   ]
  },
  {
   "cell_type": "code",
   "execution_count": 63,
   "metadata": {},
   "outputs": [
    {
     "data": {
      "text/plain": [
       "'The hereafter belong to to those who trust in the looker of their aspiration'"
      ]
     },
     "execution_count": 63,
     "metadata": {},
     "output_type": "execute_result"
    }
   ],
   "source": [
    "model1('The future belongs to those who believe in the beauty of their dreams',5)"
   ]
  },
  {
   "cell_type": "code",
   "execution_count": 17,
   "metadata": {},
   "outputs": [
    {
     "data": {
      "text/plain": [
       "'My dog loves playing in the water.'"
      ]
     },
     "execution_count": 17,
     "metadata": {},
     "output_type": "execute_result"
    }
   ],
   "source": [
    "model2('My dog likes playing in the water.', 'iciba', 'en', 'ru')"
   ]
  },
  {
   "cell_type": "code",
   "execution_count": 18,
   "metadata": {},
   "outputs": [
    {
     "data": {
      "text/plain": [
       "'My dog likes to play in the water.'"
      ]
     },
     "execution_count": 18,
     "metadata": {},
     "output_type": "execute_result"
    }
   ],
   "source": [
    "model2('My dog likes playing in the water.', 'yandex', 'en', 'ru')"
   ]
  },
  {
   "cell_type": "code",
   "execution_count": 72,
   "metadata": {},
   "outputs": [
    {
     "data": {
      "text/plain": [
       "'The future belongs to those who believe in beautiful dreams'"
      ]
     },
     "execution_count": 72,
     "metadata": {},
     "output_type": "execute_result"
    }
   ],
   "source": [
    "model2('The future belongs to those who believe in the beauty of their dreams', 'iciba', 'en', 'bg')"
   ]
  },
  {
   "cell_type": "code",
   "execution_count": 74,
   "metadata": {},
   "outputs": [
    {
     "data": {
      "text/plain": [
       "'The future relates to those who believe in the beauty of their dreams'"
      ]
     },
     "execution_count": 74,
     "metadata": {},
     "output_type": "execute_result"
    }
   ],
   "source": [
    "model2('The future belongs to those who believe in the beauty of their dreams', 'argos', 'en', 'hi')"
   ]
  },
  {
   "cell_type": "code",
   "execution_count": 75,
   "metadata": {},
   "outputs": [
    {
     "data": {
      "text/plain": [
       "'The future belongs to those who believe that their dream is defended.'"
      ]
     },
     "execution_count": 75,
     "metadata": {},
     "output_type": "execute_result"
    }
   ],
   "source": [
    "model2('The future belongs to those who believe in the beauty of their dreams', 'argos', 'en', 'zh')"
   ]
  },
  {
   "cell_type": "code",
   "execution_count": 84,
   "metadata": {},
   "outputs": [
    {
     "name": "stdout",
     "output_type": "stream",
     "text": [
      "    likes        \n",
      "  ____|______     \n",
      " |        playing\n",
      " |           |    \n",
      " |           in  \n",
      " |           |    \n",
      "dog        water \n",
      " |           |    \n",
      " My         the  \n",
      "\n"
     ]
    },
    {
     "data": {
      "text/plain": [
       "'Playing in the water my dog likes'"
      ]
     },
     "execution_count": 84,
     "metadata": {},
     "output_type": "execute_result"
    }
   ],
   "source": [
    "model3('My dog likes playing in the water')"
   ]
  },
  {
   "cell_type": "code",
   "execution_count": 86,
   "metadata": {},
   "outputs": [
    {
     "name": "stdout",
     "output_type": "stream",
     "text": [
      "           belongs                      \n",
      "   ___________|_______                   \n",
      "  |                   to                \n",
      "  |                   |                  \n",
      "  |                 those               \n",
      "  |                   |                  \n",
      "  |                believe              \n",
      "  |      _____________|______            \n",
      "  |     |                    in         \n",
      "  |     |                    |           \n",
      "  |     |                  beauty       \n",
      "  |     |              ______|______     \n",
      "  |     |             |             of  \n",
      "  |     |             |             |    \n",
      "future  |             |           dreams\n",
      "  |     |             |             |    \n",
      " The   who           the          their \n",
      "\n"
     ]
    },
    {
     "data": {
      "text/plain": [
       "'The future to those who believe in the beauty of their dreams belongs'"
      ]
     },
     "execution_count": 86,
     "metadata": {},
     "output_type": "execute_result"
    }
   ],
   "source": [
    "model3('The future belongs to those who believe in the beauty of their dreams')"
   ]
  },
  {
   "cell_type": "code",
   "execution_count": 94,
   "metadata": {},
   "outputs": [
    {
     "name": "stdout",
     "output_type": "stream",
     "text": [
      "     watched       \n",
      "  ______|______     \n",
      " |    movie    on  \n",
      " |      |      |    \n",
      "They   the   Friday\n",
      "\n"
     ]
    },
    {
     "data": {
      "text/plain": [
       "'On friday they watched the movie'"
      ]
     },
     "execution_count": 94,
     "metadata": {},
     "output_type": "execute_result"
    }
   ],
   "source": [
    "model3('They watched the movie on Friday')"
   ]
  },
  {
   "cell_type": "code",
   "execution_count": null,
   "metadata": {},
   "outputs": [],
   "source": []
  }
 ],
 "metadata": {
  "kernelspec": {
   "display_name": "Python 3",
   "language": "python",
   "name": "python3"
  },
  "language_info": {
   "codemirror_mode": {
    "name": "ipython",
    "version": 3
   },
   "file_extension": ".py",
   "mimetype": "text/x-python",
   "name": "python",
   "nbconvert_exporter": "python",
   "pygments_lexer": "ipython3",
   "version": "3.6.9"
  }
 },
 "nbformat": 4,
 "nbformat_minor": 4
}
